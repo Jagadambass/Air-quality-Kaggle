{
  "nbformat": 4,
  "nbformat_minor": 0,
  "metadata": {
    "colab": {
      "name": "AirQuality.ipynb",
      "provenance": [],
      "collapsed_sections": []
    },
    "kernelspec": {
      "name": "python3",
      "display_name": "Python 3"
    }
  },
  "cells": [
    {
      "cell_type": "code",
      "metadata": {
        "id": "WEbZBiam4_hO"
      },
      "source": [
        "import os\r\n",
        "from sklearn.tree import DecisionTreeClassifier, export_graphviz\r\n",
        "import pandas as pd\r\n",
        "import numpy as np\r\n",
        "from time import time\r\n",
        "from sklearn.linear_model import LinearRegression\r\n",
        "from sklearn.linear_model import SGDRegressor\r\n",
        "from sklearn.preprocessing import StandardScaler\r\n",
        "# from sklearn.cross_validation import  cross_val_score\r\n",
        "from sklearn.model_selection import train_test_split , cross_val_score , cross_validate,learning_curve, GridSearchCV\r\n",
        "from sklearn.pipeline import Pipeline\r\n",
        "from sklearn.metrics import roc_auc_score , classification_report, mean_squared_error, r2_score\r\n",
        "from sklearn.metrics import precision_score, recall_score, accuracy_score, classification_report\r\n",
        "from sklearn.pipeline import Pipeline\r\n",
        "from sklearn.feature_selection import *\r\n",
        "from sklearn import metrics"
      ],
      "execution_count": null,
      "outputs": []
    },
    {
      "cell_type": "code",
      "metadata": {
        "id": "SLio4Dir5BXO"
      },
      "source": [
        "\r\n",
        "\r\n",
        "# df=pd.read_csv(csv_filename,index_col=0)\r\n",
        "df=pd.read_csv(\"/content/drive/MyDrive/Colab Notebooks/AirQualityUCI.csv\")\r\n",
        "df.head()\r\n",
        "df.dropna(how=\"all\",axis=1,inplace=True)\r\n",
        "df.dropna(how=\"all\",axis=0,inplace=True)\r\n",
        "df.shape\r\n",
        "df = df[:9357]\r\n",
        "df.tail()\r\n",
        "cols = list(df.columns[2:])"
      ],
      "execution_count": 7,
      "outputs": []
    },
    {
      "cell_type": "code",
      "metadata": {
        "colab": {
          "base_uri": "https://localhost:8080/",
          "height": 758
        },
        "id": "FbZkGyjp60P4",
        "outputId": "6aae9c08-0919-4173-ab59-177c408b0ae0"
      },
      "source": [
        "df"
      ],
      "execution_count": 8,
      "outputs": [
        {
          "output_type": "execute_result",
          "data": {
            "text/html": [
              "<div>\n",
              "<style scoped>\n",
              "    .dataframe tbody tr th:only-of-type {\n",
              "        vertical-align: middle;\n",
              "    }\n",
              "\n",
              "    .dataframe tbody tr th {\n",
              "        vertical-align: top;\n",
              "    }\n",
              "\n",
              "    .dataframe thead th {\n",
              "        text-align: right;\n",
              "    }\n",
              "</style>\n",
              "<table border=\"1\" class=\"dataframe\">\n",
              "  <thead>\n",
              "    <tr style=\"text-align: right;\">\n",
              "      <th></th>\n",
              "      <th>Date</th>\n",
              "      <th>Time</th>\n",
              "      <th>CO(GT)</th>\n",
              "      <th>PT08.S1(CO)</th>\n",
              "      <th>NMHC(GT)</th>\n",
              "      <th>C6H6(GT)</th>\n",
              "      <th>PT08.S2(NMHC)</th>\n",
              "      <th>NOx(GT)</th>\n",
              "      <th>PT08.S3(NOx)</th>\n",
              "      <th>NO2(GT)</th>\n",
              "      <th>PT08.S4(NO2)</th>\n",
              "      <th>PT08.S5(O3)</th>\n",
              "      <th>T</th>\n",
              "      <th>RH</th>\n",
              "      <th>AH</th>\n",
              "    </tr>\n",
              "  </thead>\n",
              "  <tbody>\n",
              "    <tr>\n",
              "      <th>0</th>\n",
              "      <td>10-03-2004</td>\n",
              "      <td>18:00:00</td>\n",
              "      <td>2.6</td>\n",
              "      <td>1360.0</td>\n",
              "      <td>150.0</td>\n",
              "      <td>11.9</td>\n",
              "      <td>1046.0</td>\n",
              "      <td>166.0</td>\n",
              "      <td>1056.0</td>\n",
              "      <td>113.0</td>\n",
              "      <td>1692.0</td>\n",
              "      <td>1268.0</td>\n",
              "      <td>13.6</td>\n",
              "      <td>48.9</td>\n",
              "      <td>0.7578</td>\n",
              "    </tr>\n",
              "    <tr>\n",
              "      <th>1</th>\n",
              "      <td>10-03-2004</td>\n",
              "      <td>19:00:00</td>\n",
              "      <td>2.0</td>\n",
              "      <td>1292.0</td>\n",
              "      <td>112.0</td>\n",
              "      <td>9.4</td>\n",
              "      <td>955.0</td>\n",
              "      <td>103.0</td>\n",
              "      <td>1174.0</td>\n",
              "      <td>92.0</td>\n",
              "      <td>1559.0</td>\n",
              "      <td>972.0</td>\n",
              "      <td>13.3</td>\n",
              "      <td>47.7</td>\n",
              "      <td>0.7255</td>\n",
              "    </tr>\n",
              "    <tr>\n",
              "      <th>2</th>\n",
              "      <td>10-03-2004</td>\n",
              "      <td>20:00:00</td>\n",
              "      <td>2.2</td>\n",
              "      <td>1402.0</td>\n",
              "      <td>88.0</td>\n",
              "      <td>9.0</td>\n",
              "      <td>939.0</td>\n",
              "      <td>131.0</td>\n",
              "      <td>1140.0</td>\n",
              "      <td>114.0</td>\n",
              "      <td>1555.0</td>\n",
              "      <td>1074.0</td>\n",
              "      <td>11.9</td>\n",
              "      <td>54.0</td>\n",
              "      <td>0.7502</td>\n",
              "    </tr>\n",
              "    <tr>\n",
              "      <th>3</th>\n",
              "      <td>10-03-2004</td>\n",
              "      <td>21:00:00</td>\n",
              "      <td>2.2</td>\n",
              "      <td>1376.0</td>\n",
              "      <td>80.0</td>\n",
              "      <td>9.2</td>\n",
              "      <td>948.0</td>\n",
              "      <td>172.0</td>\n",
              "      <td>1092.0</td>\n",
              "      <td>122.0</td>\n",
              "      <td>1584.0</td>\n",
              "      <td>1203.0</td>\n",
              "      <td>11.0</td>\n",
              "      <td>60.0</td>\n",
              "      <td>0.7867</td>\n",
              "    </tr>\n",
              "    <tr>\n",
              "      <th>4</th>\n",
              "      <td>10-03-2004</td>\n",
              "      <td>22:00:00</td>\n",
              "      <td>1.6</td>\n",
              "      <td>1272.0</td>\n",
              "      <td>51.0</td>\n",
              "      <td>6.5</td>\n",
              "      <td>836.0</td>\n",
              "      <td>131.0</td>\n",
              "      <td>1205.0</td>\n",
              "      <td>116.0</td>\n",
              "      <td>1490.0</td>\n",
              "      <td>1110.0</td>\n",
              "      <td>11.2</td>\n",
              "      <td>59.6</td>\n",
              "      <td>0.7888</td>\n",
              "    </tr>\n",
              "    <tr>\n",
              "      <th>...</th>\n",
              "      <td>...</td>\n",
              "      <td>...</td>\n",
              "      <td>...</td>\n",
              "      <td>...</td>\n",
              "      <td>...</td>\n",
              "      <td>...</td>\n",
              "      <td>...</td>\n",
              "      <td>...</td>\n",
              "      <td>...</td>\n",
              "      <td>...</td>\n",
              "      <td>...</td>\n",
              "      <td>...</td>\n",
              "      <td>...</td>\n",
              "      <td>...</td>\n",
              "      <td>...</td>\n",
              "    </tr>\n",
              "    <tr>\n",
              "      <th>9352</th>\n",
              "      <td>04-04-2005</td>\n",
              "      <td>10:00:00</td>\n",
              "      <td>3.1</td>\n",
              "      <td>1314.0</td>\n",
              "      <td>-200.0</td>\n",
              "      <td>13.5</td>\n",
              "      <td>1101.0</td>\n",
              "      <td>472.0</td>\n",
              "      <td>539.0</td>\n",
              "      <td>190.0</td>\n",
              "      <td>1374.0</td>\n",
              "      <td>1729.0</td>\n",
              "      <td>21.9</td>\n",
              "      <td>29.3</td>\n",
              "      <td>0.7568</td>\n",
              "    </tr>\n",
              "    <tr>\n",
              "      <th>9353</th>\n",
              "      <td>04-04-2005</td>\n",
              "      <td>11:00:00</td>\n",
              "      <td>2.4</td>\n",
              "      <td>1163.0</td>\n",
              "      <td>-200.0</td>\n",
              "      <td>11.4</td>\n",
              "      <td>1027.0</td>\n",
              "      <td>353.0</td>\n",
              "      <td>604.0</td>\n",
              "      <td>179.0</td>\n",
              "      <td>1264.0</td>\n",
              "      <td>1269.0</td>\n",
              "      <td>24.3</td>\n",
              "      <td>23.7</td>\n",
              "      <td>0.7119</td>\n",
              "    </tr>\n",
              "    <tr>\n",
              "      <th>9354</th>\n",
              "      <td>04-04-2005</td>\n",
              "      <td>12:00:00</td>\n",
              "      <td>2.4</td>\n",
              "      <td>1142.0</td>\n",
              "      <td>-200.0</td>\n",
              "      <td>12.4</td>\n",
              "      <td>1063.0</td>\n",
              "      <td>293.0</td>\n",
              "      <td>603.0</td>\n",
              "      <td>175.0</td>\n",
              "      <td>1241.0</td>\n",
              "      <td>1092.0</td>\n",
              "      <td>26.9</td>\n",
              "      <td>18.3</td>\n",
              "      <td>0.6406</td>\n",
              "    </tr>\n",
              "    <tr>\n",
              "      <th>9355</th>\n",
              "      <td>04-04-2005</td>\n",
              "      <td>13:00:00</td>\n",
              "      <td>2.1</td>\n",
              "      <td>1003.0</td>\n",
              "      <td>-200.0</td>\n",
              "      <td>9.5</td>\n",
              "      <td>961.0</td>\n",
              "      <td>235.0</td>\n",
              "      <td>702.0</td>\n",
              "      <td>156.0</td>\n",
              "      <td>1041.0</td>\n",
              "      <td>770.0</td>\n",
              "      <td>28.3</td>\n",
              "      <td>13.5</td>\n",
              "      <td>0.5139</td>\n",
              "    </tr>\n",
              "    <tr>\n",
              "      <th>9356</th>\n",
              "      <td>04-04-2005</td>\n",
              "      <td>14:00:00</td>\n",
              "      <td>2.2</td>\n",
              "      <td>1071.0</td>\n",
              "      <td>-200.0</td>\n",
              "      <td>11.9</td>\n",
              "      <td>1047.0</td>\n",
              "      <td>265.0</td>\n",
              "      <td>654.0</td>\n",
              "      <td>168.0</td>\n",
              "      <td>1129.0</td>\n",
              "      <td>816.0</td>\n",
              "      <td>28.5</td>\n",
              "      <td>13.1</td>\n",
              "      <td>0.5028</td>\n",
              "    </tr>\n",
              "  </tbody>\n",
              "</table>\n",
              "<p>9357 rows × 15 columns</p>\n",
              "</div>"
            ],
            "text/plain": [
              "            Date      Time  CO(GT)  ...     T    RH      AH\n",
              "0     10-03-2004  18:00:00     2.6  ...  13.6  48.9  0.7578\n",
              "1     10-03-2004  19:00:00     2.0  ...  13.3  47.7  0.7255\n",
              "2     10-03-2004  20:00:00     2.2  ...  11.9  54.0  0.7502\n",
              "3     10-03-2004  21:00:00     2.2  ...  11.0  60.0  0.7867\n",
              "4     10-03-2004  22:00:00     1.6  ...  11.2  59.6  0.7888\n",
              "...          ...       ...     ...  ...   ...   ...     ...\n",
              "9352  04-04-2005  10:00:00     3.1  ...  21.9  29.3  0.7568\n",
              "9353  04-04-2005  11:00:00     2.4  ...  24.3  23.7  0.7119\n",
              "9354  04-04-2005  12:00:00     2.4  ...  26.9  18.3  0.6406\n",
              "9355  04-04-2005  13:00:00     2.1  ...  28.3  13.5  0.5139\n",
              "9356  04-04-2005  14:00:00     2.2  ...  28.5  13.1  0.5028\n",
              "\n",
              "[9357 rows x 15 columns]"
            ]
          },
          "metadata": {
            "tags": []
          },
          "execution_count": 8
        }
      ]
    },
    {
      "cell_type": "code",
      "metadata": {
        "colab": {
          "base_uri": "https://localhost:8080/",
          "height": 383
        },
        "id": "yXdgCRe-7I6F",
        "outputId": "b3b70cff-6800-4a01-cbc5-8eaf2ade8954"
      },
      "source": [
        "df.head()"
      ],
      "execution_count": 9,
      "outputs": [
        {
          "output_type": "execute_result",
          "data": {
            "text/html": [
              "<div>\n",
              "<style scoped>\n",
              "    .dataframe tbody tr th:only-of-type {\n",
              "        vertical-align: middle;\n",
              "    }\n",
              "\n",
              "    .dataframe tbody tr th {\n",
              "        vertical-align: top;\n",
              "    }\n",
              "\n",
              "    .dataframe thead th {\n",
              "        text-align: right;\n",
              "    }\n",
              "</style>\n",
              "<table border=\"1\" class=\"dataframe\">\n",
              "  <thead>\n",
              "    <tr style=\"text-align: right;\">\n",
              "      <th></th>\n",
              "      <th>Date</th>\n",
              "      <th>Time</th>\n",
              "      <th>CO(GT)</th>\n",
              "      <th>PT08.S1(CO)</th>\n",
              "      <th>NMHC(GT)</th>\n",
              "      <th>C6H6(GT)</th>\n",
              "      <th>PT08.S2(NMHC)</th>\n",
              "      <th>NOx(GT)</th>\n",
              "      <th>PT08.S3(NOx)</th>\n",
              "      <th>NO2(GT)</th>\n",
              "      <th>PT08.S4(NO2)</th>\n",
              "      <th>PT08.S5(O3)</th>\n",
              "      <th>T</th>\n",
              "      <th>RH</th>\n",
              "      <th>AH</th>\n",
              "    </tr>\n",
              "  </thead>\n",
              "  <tbody>\n",
              "    <tr>\n",
              "      <th>0</th>\n",
              "      <td>10-03-2004</td>\n",
              "      <td>18:00:00</td>\n",
              "      <td>2.6</td>\n",
              "      <td>1360.0</td>\n",
              "      <td>150.0</td>\n",
              "      <td>11.9</td>\n",
              "      <td>1046.0</td>\n",
              "      <td>166.0</td>\n",
              "      <td>1056.0</td>\n",
              "      <td>113.0</td>\n",
              "      <td>1692.0</td>\n",
              "      <td>1268.0</td>\n",
              "      <td>13.6</td>\n",
              "      <td>48.9</td>\n",
              "      <td>0.7578</td>\n",
              "    </tr>\n",
              "    <tr>\n",
              "      <th>1</th>\n",
              "      <td>10-03-2004</td>\n",
              "      <td>19:00:00</td>\n",
              "      <td>2.0</td>\n",
              "      <td>1292.0</td>\n",
              "      <td>112.0</td>\n",
              "      <td>9.4</td>\n",
              "      <td>955.0</td>\n",
              "      <td>103.0</td>\n",
              "      <td>1174.0</td>\n",
              "      <td>92.0</td>\n",
              "      <td>1559.0</td>\n",
              "      <td>972.0</td>\n",
              "      <td>13.3</td>\n",
              "      <td>47.7</td>\n",
              "      <td>0.7255</td>\n",
              "    </tr>\n",
              "    <tr>\n",
              "      <th>2</th>\n",
              "      <td>10-03-2004</td>\n",
              "      <td>20:00:00</td>\n",
              "      <td>2.2</td>\n",
              "      <td>1402.0</td>\n",
              "      <td>88.0</td>\n",
              "      <td>9.0</td>\n",
              "      <td>939.0</td>\n",
              "      <td>131.0</td>\n",
              "      <td>1140.0</td>\n",
              "      <td>114.0</td>\n",
              "      <td>1555.0</td>\n",
              "      <td>1074.0</td>\n",
              "      <td>11.9</td>\n",
              "      <td>54.0</td>\n",
              "      <td>0.7502</td>\n",
              "    </tr>\n",
              "    <tr>\n",
              "      <th>3</th>\n",
              "      <td>10-03-2004</td>\n",
              "      <td>21:00:00</td>\n",
              "      <td>2.2</td>\n",
              "      <td>1376.0</td>\n",
              "      <td>80.0</td>\n",
              "      <td>9.2</td>\n",
              "      <td>948.0</td>\n",
              "      <td>172.0</td>\n",
              "      <td>1092.0</td>\n",
              "      <td>122.0</td>\n",
              "      <td>1584.0</td>\n",
              "      <td>1203.0</td>\n",
              "      <td>11.0</td>\n",
              "      <td>60.0</td>\n",
              "      <td>0.7867</td>\n",
              "    </tr>\n",
              "    <tr>\n",
              "      <th>4</th>\n",
              "      <td>10-03-2004</td>\n",
              "      <td>22:00:00</td>\n",
              "      <td>1.6</td>\n",
              "      <td>1272.0</td>\n",
              "      <td>51.0</td>\n",
              "      <td>6.5</td>\n",
              "      <td>836.0</td>\n",
              "      <td>131.0</td>\n",
              "      <td>1205.0</td>\n",
              "      <td>116.0</td>\n",
              "      <td>1490.0</td>\n",
              "      <td>1110.0</td>\n",
              "      <td>11.2</td>\n",
              "      <td>59.6</td>\n",
              "      <td>0.7888</td>\n",
              "    </tr>\n",
              "  </tbody>\n",
              "</table>\n",
              "</div>"
            ],
            "text/plain": [
              "         Date      Time  CO(GT)  PT08.S1(CO)  ...  PT08.S5(O3)     T    RH      AH\n",
              "0  10-03-2004  18:00:00     2.6       1360.0  ...       1268.0  13.6  48.9  0.7578\n",
              "1  10-03-2004  19:00:00     2.0       1292.0  ...        972.0  13.3  47.7  0.7255\n",
              "2  10-03-2004  20:00:00     2.2       1402.0  ...       1074.0  11.9  54.0  0.7502\n",
              "3  10-03-2004  21:00:00     2.2       1376.0  ...       1203.0  11.0  60.0  0.7867\n",
              "4  10-03-2004  22:00:00     1.6       1272.0  ...       1110.0  11.2  59.6  0.7888\n",
              "\n",
              "[5 rows x 15 columns]"
            ]
          },
          "metadata": {
            "tags": []
          },
          "execution_count": 9
        }
      ]
    },
    {
      "cell_type": "code",
      "metadata": {
        "id": "3LY1eiPY7Mfj"
      },
      "source": [
        "for col in cols:\r\n",
        "    if df[col].dtype != 'float64':\r\n",
        "        str_x = pd.Series(df[col]).str.replace(',','.')\r\n",
        "        float_X = []\r\n",
        "        for value in str_x.values:\r\n",
        "            fv = float(value)\r\n",
        "            float_X.append(fv)\r\n",
        "\r\n",
        "            df[col] = pd.DataFrame(float_X)\r\n",
        "\r\n",
        "df.head()\r\n",
        "features=list(df.columns)\r\n",
        "features.remove('Date')\r\n",
        "features.remove('Time')\r\n",
        "features.remove('PT08.S4(NO2)')\r\n",
        "X = df[features]\r\n",
        "y = df['C6H6(GT)']"
      ],
      "execution_count": 10,
      "outputs": []
    },
    {
      "cell_type": "code",
      "metadata": {
        "colab": {
          "base_uri": "https://localhost:8080/"
        },
        "id": "2g_Ht1dn7XOg",
        "outputId": "e1a88828-c3ab-4b6e-8d1c-d06de3e38414"
      },
      "source": [
        "from sklearn.tree import DecisionTreeRegressor\r\n",
        "\r\n",
        "X_train, X_test, y_train, y_test = train_test_split(X,y, test_size=0.4, random_state=0)\r\n",
        "print(X_train.shape, y_train.shape)\r\n",
        "\r\n",
        "tree = DecisionTreeRegressor(max_depth=3)\r\n",
        "tree.fit(X_train, y_train)\r\n",
        "\r\n",
        "y_train_pred = tree.predict(X_train)\r\n",
        "y_test_pred = tree.predict(X_test)"
      ],
      "execution_count": 14,
      "outputs": [
        {
          "output_type": "stream",
          "text": [
            "(5614, 12) (5614,)\n"
          ],
          "name": "stdout"
        }
      ]
    },
    {
      "cell_type": "code",
      "metadata": {
        "colab": {
          "base_uri": "https://localhost:8080/"
        },
        "id": "Na_JECgd7fhi",
        "outputId": "b6356551-a38f-4012-89f4-94134cac6a73"
      },
      "source": [
        "print('MSE train: %.3f, test: %.3f' % (\r\n",
        "        mean_squared_error(y_train, y_train_pred),\r\n",
        "        mean_squared_error(y_test, y_test_pred)))\r\n",
        "print('R^2 train: %.3f, test: %.3f' % (\r\n",
        "        r2_score(y_train, y_train_pred),\r\n",
        "        r2_score(y_test, y_test_pred)))"
      ],
      "execution_count": 15,
      "outputs": [
        {
          "output_type": "stream",
          "text": [
            "MSE train: 5.931, test: 5.361\n",
            "R^2 train: 0.996, test: 0.997\n"
          ],
          "name": "stdout"
        }
      ]
    },
    {
      "cell_type": "code",
      "metadata": {
        "id": "iLCs905y750M"
      },
      "source": [
        "from sklearn.ensemble import RandomForestRegressor\r\n",
        "\r\n",
        "forest = RandomForestRegressor(n_estimators=1000,\r\n",
        "                               criterion='mse',\r\n",
        "                               random_state=1,\r\n",
        "                               n_jobs=-1)\r\n",
        "forest.fit(X_train, y_train)\r\n",
        "y_train_pred = forest.predict(X_train)\r\n",
        "y_test_pred = forest.predict(X_test)"
      ],
      "execution_count": 16,
      "outputs": []
    },
    {
      "cell_type": "code",
      "metadata": {
        "colab": {
          "base_uri": "https://localhost:8080/"
        },
        "id": "6p-byqOa7-Oy",
        "outputId": "423e1ea0-fbfd-414b-9962-9956e0ab9a8b"
      },
      "source": [
        "print('MSE train: %.3f, test: %.3f' % (\r\n",
        "        mean_squared_error(y_train, y_train_pred),\r\n",
        "        mean_squared_error(y_test, y_test_pred)))\r\n",
        "print('R^2 train: %.3f, test: %.3f' % (\r\n",
        "        r2_score(y_train, y_train_pred),\r\n",
        "        r2_score(y_test, y_test_pred)))\r\n",
        "regressor = LinearRegression()\r\n",
        "regressor.fit(X_train, y_train)\r\n",
        "y_predictions = regressor.predict(X_test)\r\n",
        "print('R-squared:', regressor.score(X_test, y_test))\r\n",
        "scores = cross_val_score(regressor, X, y, cv=5)\r\n",
        "print (\"Average of scores: \", scores.mean())\r\n",
        "print (\"Cross validation scores: \", scores)"
      ],
      "execution_count": 17,
      "outputs": [
        {
          "output_type": "stream",
          "text": [
            "MSE train: 0.005, test: 0.009\n",
            "R^2 train: 1.000, test: 1.000\n",
            "R-squared: 1.0\n",
            "Average of scores:  1.0\n",
            "Cross validation scores:  [1. 1. 1. 1. 1.]\n"
          ],
          "name": "stdout"
        }
      ]
    },
    {
      "cell_type": "markdown",
      "metadata": {
        "id": "qcbxsitP8WU9"
      },
      "source": [
        "# Scaling the features using StandardScaler:"
      ]
    },
    {
      "cell_type": "code",
      "metadata": {
        "colab": {
          "base_uri": "https://localhost:8080/"
        },
        "id": "eEu9E7yE8QAz",
        "outputId": "a3890721-9a8f-4e1e-f36c-a88f89b53fab"
      },
      "source": [
        "from sklearn.linear_model import SGDRegressor\r\n",
        "\r\n",
        "regressor = SGDRegressor(loss='squared_loss')\r\n",
        "scores = cross_val_score(regressor, X_train, y_train, cv=5)\r\n",
        "print ('Cross validation r-squared scores:', scores)\r\n",
        "print ('Average cross validation r-squared score:', np.mean(scores))\r\n",
        "regressor.fit(X_train, y_train)\r\n",
        "print ('Test set r-squared score', regressor.score(X_test, y_test))"
      ],
      "execution_count": 23,
      "outputs": [
        {
          "output_type": "stream",
          "text": [
            "Cross validation r-squared scores: [0.99973315 0.99979833 0.99983732 0.99977202 0.9997981 ]\n",
            "Average cross validation r-squared score: 0.9997877840256948\n",
            "Test set r-squared score -21319.470951693682\n"
          ],
          "name": "stdout"
        }
      ]
    },
    {
      "cell_type": "code",
      "metadata": {
        "id": "hiQlITl48Xgs"
      },
      "source": [
        "X_train, X_test, y_train, y_test = train_test_split(X,y, test_size=0.25, random_state=33)\r\n",
        "df.columns\r\n",
        "feature_names = list(df.columns[2:])\r\n",
        "feature_names.remove('PT08.S4(NO2)')"
      ],
      "execution_count": 24,
      "outputs": []
    },
    {
      "cell_type": "code",
      "metadata": {
        "colab": {
          "base_uri": "https://localhost:8080/",
          "height": 774
        },
        "id": "GvzzcCXC9kar",
        "outputId": "1e854620-5758-4b9d-fde1-687bcdd21906"
      },
      "source": [
        "import matplotlib.pyplot as plt\r\n",
        "from sklearn.feature_selection import *\r\n",
        "\r\n",
        "fs=SelectKBest(score_func=f_regression,k=5)\r\n",
        "X_new=fs.fit_transform(X_train,y_train)\r\n",
        "print((fs.get_support(),feature_names))\r\n",
        "\r\n",
        "x_min, x_max = X_new[:,0].min(), X_new[:, 0].max()\r\n",
        "y_min, y_max = y_train.min(), y_train.max()\r\n",
        "\r\n",
        "fig=plt.figure()\r\n",
        "#fig.subplots_adjust(left=0, right=1, bottom=0, top=1, hspace=0.05, wspace=0.05)\r\n",
        "\r\n",
        "# Two subplots, unpack the axes array immediately\r\n",
        "fig, axes = plt.subplots(1,5)\r\n",
        "\r\n",
        "fig.set_size_inches(12,12)"
      ],
      "execution_count": 25,
      "outputs": [
        {
          "output_type": "stream",
          "text": [
            "(array([False,  True, False, False,  True, False, False, False, False,\n",
            "        True,  True,  True]), ['CO(GT)', 'PT08.S1(CO)', 'NMHC(GT)', 'C6H6(GT)', 'PT08.S2(NMHC)', 'NOx(GT)', 'PT08.S3(NOx)', 'NO2(GT)', 'PT08.S5(O3)', 'T', 'RH', 'AH'])\n"
          ],
          "name": "stdout"
        },
        {
          "output_type": "display_data",
          "data": {
            "text/plain": [
              "<Figure size 432x288 with 0 Axes>"
            ]
          },
          "metadata": {
            "tags": []
          }
        },
        {
          "output_type": "display_data",
          "data": {
            "image/png": "[encoded data removed]",
            "text/plain": [
              "<Figure size 864x864 with 5 Axes>"
            ]
          },
          "metadata": {
            "tags": [],
            "needs_background": "light"
          }
        }
      ]
    },
    {
      "cell_type": "code",
      "metadata": {
        "colab": {
          "base_uri": "https://localhost:8080/",
          "height": 265
        },
        "id": "LvwuMccS9snS",
        "outputId": "7d7d0984-78e4-4098-eadb-017f175274ba"
      },
      "source": [
        "for i in range(5):\r\n",
        "    axes[i].set_aspect('equal')\r\n",
        "    axes[i].set_title('Feature ' + str(i))\r\n",
        "    axes[i].set_xlabel('Feature')\r\n",
        "    axes[i].set_ylabel('Target')\r\n",
        "    axes[i].set_xlim(x_min, x_max)\r\n",
        "    axes[i].set_ylim(y_min, y_max)\r\n",
        "    plt.scatter(X_new[:,i],y_train)\r\n",
        "\r\n"
      ],
      "execution_count": 27,
      "outputs": [
        {
          "output_type": "display_data",
          "data": {
            "image/png": "[encoded data removed]",
            "text/plain": [
              "<Figure size 432x288 with 1 Axes>"
            ]
          },
          "metadata": {
            "tags": [],
            "needs_background": "light"
          }
        }
      ]
    },
    {
      "cell_type": "code",
      "metadata": {
        "colab": {
          "base_uri": "https://localhost:8080/"
        },
        "id": "OzMVNZkA9xLD",
        "outputId": "4f60c3d0-89d4-4b49-9954-1ea6cd322d7d"
      },
      "source": [
        "from sklearn import linear_model , svm , ensemble\r\n",
        "from sklearn.model_selection import KFold,RepeatedKFold\r\n",
        "\r\n",
        "def train_and_evaluate(clf, X_train, y_train):\r\n",
        "    clf.fit(X_train, y_train)\r\n",
        "\r\n",
        "    print(\"Coefficient of determination on training set:\", clf.score(X_train, y_train))\r\n",
        "\r\n",
        "    # create a k-fold croos validation iterator of k=5 folds\r\n",
        "    cv = KFold(n_splits=4, shuffle=True, random_state=i)\r\n",
        "    scores = cross_val_score(clf, X_train, y_train, cv=cv)\r\n",
        "    print(\"Average coefficient of determination using 5-fold crossvalidation:\", np.mean(scores))\r\n",
        "\r\n",
        "\r\n",
        "clf_sgd = linear_model.SGDRegressor(loss='squared_loss', penalty=None,  random_state=42)\r\n",
        "train_and_evaluate(clf_sgd,X_train,y_train)\r\n",
        "print( clf_sgd.coef_)\r\n",
        "clf_sgd1 = linear_model.SGDRegressor(loss='squared_loss', penalty='l2',  random_state=42)\r\n",
        "train_and_evaluate(clf_sgd1,X_train,y_train)\r\n",
        "clf_sgd2 = linear_model.SGDRegressor(loss='squared_loss', penalty='l1',  random_state=42)\r\n",
        "train_and_evaluate(clf_sgd2,X_train,y_train)    "
      ],
      "execution_count": 59,
      "outputs": [
        {
          "output_type": "stream",
          "text": [
            "Coefficient of determination on training set: -3.950519766736739e+26\n",
            "Average coefficient of determination using 5-fold crossvalidation: -3.123672050881357e+26\n",
            "[-1.50500231e+11 -1.68778465e+11 -1.30814059e+10 -1.51393799e+11\n",
            "  6.41730704e+11  2.69335686e+11  7.78398553e+11 -4.40656023e+11\n",
            " -2.40335684e+11  5.76003644e+10 -4.31689486e+11 -5.04421363e+11]\n",
            "Coefficient of determination on training set: -1.3617033492167947e+26\n",
            "Average coefficient of determination using 5-fold crossvalidation: -6.67658079192098e+26\n",
            "Coefficient of determination on training set: -1.6578168199014537e+26\n",
            "Average coefficient of determination using 5-fold crossvalidation: -3.958128086637905e+26\n"
          ],
          "name": "stdout"
        }
      ]
    },
    {
      "cell_type": "code",
      "metadata": {
        "colab": {
          "base_uri": "https://localhost:8080/"
        },
        "id": "H1-rbjw--a1h",
        "outputId": "d298cc12-e9f1-4520-892d-3d01531c276f"
      },
      "source": [
        "clf_svr= svm.SVR(kernel='linear')\r\n",
        "train_and_evaluate(clf_svr,X_train,y_train)\r\n",
        "clf_svr_poly= svm.SVR(kernel='poly')\r\n",
        "train_and_evaluate(clf_svr_poly,X_train,y_train)\r\n",
        "clf_svr_rbf= svm.SVR(kernel='rbf')\r\n",
        "train_and_evaluate(clf_svr_rbf,X_train,y_train)\r\n",
        "clf_svr_poly2= svm.SVR(kernel='poly',degree=2)\r\n",
        "train_and_evaluate(clf_svr_poly2,X_train,y_train)\r\n",
        "\r\n",
        "\r\n",
        "clf_et=ensemble.ExtraTreesRegressor(n_estimators=10,random_state=42)\r\n",
        "train_and_evaluate(clf_et,X_train,y_train)\r\n",
        "imp_features = (np.sort((clf_et.feature_importances_,features),axis=0))\r\n",
        "for rank,f in zip(imp_features[0],imp_features[1]):\r\n",
        "    print(\"{0:.3f} <-> {1}\".format(float(rank), f))"
      ],
      "execution_count": 60,
      "outputs": [
        {
          "output_type": "stream",
          "text": [
            "Coefficient of determination on training set: 0.9999990797025919\n",
            "Average coefficient of determination using 5-fold crossvalidation: 0.9999990452820722\n",
            "Coefficient of determination on training set: 0.10382053187184438\n",
            "Average coefficient of determination using 5-fold crossvalidation: 0.10064310984967567\n",
            "Coefficient of determination on training set: 0.9960588029843938\n",
            "Average coefficient of determination using 5-fold crossvalidation: 0.9901433627097671\n",
            "Coefficient of determination on training set: 0.15302536866671734\n",
            "Average coefficient of determination using 5-fold crossvalidation: 0.14551041980538842\n",
            "Coefficient of determination on training set: 1.0\n",
            "Average coefficient of determination using 5-fold crossvalidation: 0.99998086125939\n",
            "0.000 <-> CO(GT)\n",
            "0.001 <-> PT08.S1(CO)\n",
            "0.000 <-> NMHC(GT)\n",
            "0.208 <-> C6H6(GT)\n",
            "0.011 <-> PT08.S2(NMHC)\n",
            "0.001 <-> NOx(GT)\n",
            "0.099 <-> PT08.S3(NOx)\n",
            "0.000 <-> NO2(GT)\n",
            "0.003 <-> PT08.S5(O3)\n",
            "0.194 <-> T\n",
            "0.194 <-> RH\n",
            "0.291 <-> AH\n"
          ],
          "name": "stdout"
        }
      ]
    },
    {
      "cell_type": "code",
      "metadata": {
        "colab": {
          "base_uri": "https://localhost:8080/"
        },
        "id": "Z039HHngFbr5",
        "outputId": "49e6a10e-4c50-4203-8811-5447bb15ecf2"
      },
      "source": [
        "def measure_performance(X, y, clf, show_accuracy=True,\r\n",
        "                        show_classification_report=True,\r\n",
        "                        show_confusion_matrix=True,\r\n",
        "                        show_r2_score=False):\r\n",
        "    y_pred = clf.predict(X)\r\n",
        "    if show_accuracy:\r\n",
        "        print(\"Accuracy:{0:.3f}\".format(metrics.accuracy_score(y, y_pred)), \"\\n\")\r\n",
        "\r\n",
        "    if show_classification_report:\r\n",
        "        print(\"Classification report\")\r\n",
        "        print(metrics.classification_report(y, y_pred), \"\\n\")\r\n",
        "\r\n",
        "    if show_confusion_matrix:\r\n",
        "        print(\"Confusion matrix\")\r\n",
        "        print(metrics.confusion_matrix(y, y_pred), \"\\n\")\r\n",
        "\r\n",
        "    if show_r2_score:\r\n",
        "        print(\"Coefficient of determination:{0:.3f}\".format(metrics.r2_score(y, y_pred)), \"\\n\")\r\n",
        "\r\n",
        "\r\n",
        "measure_performance(X_test, y_test, clf_et,\r\n",
        "                    show_accuracy=False,\r\n",
        "                    show_classification_report=False,\r\n",
        "                    show_confusion_matrix=False,\r\n",
        "                    show_r2_score=True)"
      ],
      "execution_count": 61,
      "outputs": [
        {
          "output_type": "stream",
          "text": [
            "Coefficient of determination:1.000 \n",
            "\n"
          ],
          "name": "stdout"
        }
      ]
    },
    {
      "cell_type": "code",
      "metadata": {
        "id": "QdD8W8fUGskO"
      },
      "source": [
        ""
      ],
      "execution_count": null,
      "outputs": []
    }
  ]
}